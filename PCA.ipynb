{
 "cells": [
  {
   "cell_type": "code",
   "execution_count": null,
   "metadata": {},
   "outputs": [],
   "source": [
    "PCA"
   ]
  },
  {
   "cell_type": "markdown",
   "metadata": {},
   "source": [
    "# What Is PCA?\n",
    "The principal components of a collection of points in a real p-space are a sequence of {\\displaystyle p}p direction vectors, where the {\\displaystyle i^{\\text{th}}}i^{{\\text{th}}} vector is the direction of a line that best fits the data while being orthogonal to the first {\\displaystyle i-1}i-1 vectors. Here, a best-fitting line is defined as one that minimizes the average squared distance from the points to the line. These directions constitute an orthonormal basis in which different individual dimensions of the data are linearly uncorrelated. Principal component analysis (PCA) is the process of computing the principal components and using them to perform a change of basis on the data, sometimes using only the first few principal components and ignoring the rest."
   ]
  },
  {
   "cell_type": "code",
   "execution_count": null,
   "metadata": {},
   "outputs": [],
   "source": [
    "#pca\n",
    "#you have to perform after Standad scalling\n",
    "from sklearn.decomposition import PCA\n",
    "cover_matrix=PCA(n_components=len(df_x.columns))\n",
    "cover_matrix.fit(df_x)\n",
    "\n",
    "    "
   ]
  },
  {
   "cell_type": "code",
   "execution_count": null,
   "metadata": {},
   "outputs": [],
   "source": []
  },
  {
   "cell_type": "code",
   "execution_count": null,
   "metadata": {},
   "outputs": [],
   "source": [
    "plt.ylabel(\"Engine values\")\n",
    "plt.xlabel(\"#no of featutes\")\n",
    "plt.title(\"PCA Engine values\")\n",
    "plt.ylim(0,max(cover_matrix.explained_variance_))\n",
    "plt.axhline(y=1,color='g',linestyle='--')\n",
    "plt.plot(cover_matrix.explained_variance_)\n",
    "plt.show()"
   ]
  },
  {
   "cell_type": "code",
   "execution_count": null,
   "metadata": {},
   "outputs": [],
   "source": []
  },
  {
   "cell_type": "code",
   "execution_count": null,
   "metadata": {},
   "outputs": [],
   "source": [
    "t=#where the screeplot will show data are meeting the 100%\n",
    "pc=PCA(n_components=t)\n",
    "x1=pc.fit_transform(df_x)\n",
    "df_x=pd.DataFrame(x1)"
   ]
  }
 ],
 "metadata": {
  "kernelspec": {
   "display_name": "Python 3",
   "language": "python",
   "name": "python3"
  },
  "language_info": {
   "codemirror_mode": {
    "name": "ipython",
    "version": 3
   },
   "file_extension": ".py",
   "mimetype": "text/x-python",
   "name": "python",
   "nbconvert_exporter": "python",
   "pygments_lexer": "ipython3",
   "version": "3.6.10"
  }
 },
 "nbformat": 4,
 "nbformat_minor": 4
}
