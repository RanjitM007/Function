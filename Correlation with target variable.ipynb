{
 "cells": [
  {
   "cell_type": "code",
   "execution_count": null,
   "metadata": {},
   "outputs": [],
   "source": [
    "def corr_with_target(df):\n",
    "    Target=\"Target variabale\"#Y label\n",
    "    plt.figure(figsize=[12,6])\n",
    "    df_train.drop(Target,axis=1).corrwith(df[Target]).plot(kind='bar',grid=True,color='red')\n",
    "    plt.xticks(rotation=90)\n",
    "    plt.show()\n",
    "    "
   ]
  }
 ],
 "metadata": {
  "kernelspec": {
   "display_name": "Python 3",
   "language": "python",
   "name": "python3"
  },
  "language_info": {
   "codemirror_mode": {
    "name": "ipython",
    "version": 3
   },
   "file_extension": ".py",
   "mimetype": "text/x-python",
   "name": "python",
   "nbconvert_exporter": "python",
   "pygments_lexer": "ipython3",
   "version": "3.6.10"
  }
 },
 "nbformat": 4,
 "nbformat_minor": 4
}
