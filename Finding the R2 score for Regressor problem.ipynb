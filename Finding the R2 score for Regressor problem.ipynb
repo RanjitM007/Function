{
 "cells": [
  {
   "cell_type": "code",
   "execution_count": 1,
   "metadata": {},
   "outputs": [],
   "source": [
    "\n",
    "import math\n",
    "final_random_state=[]#results will be append \n",
    "regressor=[]#results will be append \n",
    "Highest_acc=[]#results will be append \n",
    "MSE=[]#results will be append \n",
    "MAE=[]#results will be append \n",
    "RMSE=[]#results will be append \n",
    "from sklearn.metrics import mean_squared_error,mean_absolute_error,r2_score\n",
    "from sklearn.model_selection import train_test_split\n",
    "def max_r2score(rgr,x,y):\n",
    "    max_acc=0\n",
    "    for rd in range(42,100):\n",
    "        x_train,x_test,y_train,y_test=train_test_split(x,y,random_state=rd,test_size=0.20)\n",
    "        rgr.fit(x_train,y_train)\n",
    "        prd=rgr.predict(x_test)\n",
    "        acc=r2_score(y_test,prd)\n",
    "        if acc>max_acc:\n",
    "            max_acc=acc\n",
    "            final_rd=rd\n",
    "    mse=mean_squared_error(y_test,prd)#mean_squared_error\n",
    "    mae=mean_absolute_error(y_test,prd)#mean_absolute_error\n",
    "    rmse=math.sqrt(mse)#Root Mean Square Error\n",
    "    print(\"max ccuracy score coresponding to \",final_rd,\"♫is♫\",max_acc*100)\n",
    "    print(\"Mean_Squared_Error is: \",mse)\n",
    "    print(\"Mean_Absolute_Error is: \",mae)\n",
    "    print(\"Root Mean_Squared_Error is: \",rmse)\n",
    "    final_random_state.append(final_rd)\n",
    "    regressor.append(rgr)\n",
    "    Highest_acc.append(max_acc*100)\n",
    "    MSE.append(mse)\n",
    "    MAE.append(mae)\n",
    "    RMSE.append(rmse)\n",
    "    return final_rd "
   ]
  },
  {
   "cell_type": "code",
   "execution_count": null,
   "metadata": {},
   "outputs": [],
   "source": []
  }
 ],
 "metadata": {
  "kernelspec": {
   "display_name": "Python 3",
   "language": "python",
   "name": "python3"
  },
  "language_info": {
   "codemirror_mode": {
    "name": "ipython",
    "version": 3
   },
   "file_extension": ".py",
   "mimetype": "text/x-python",
   "name": "python",
   "nbconvert_exporter": "python",
   "pygments_lexer": "ipython3",
   "version": "3.6.10"
  }
 },
 "nbformat": 4,
 "nbformat_minor": 4
}
