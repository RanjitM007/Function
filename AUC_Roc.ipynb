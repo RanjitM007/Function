{
 "cells": [
  {
   "cell_type": "code",
   "execution_count": null,
   "metadata": {},
   "outputs": [],
   "source": [
    "#lets make a function for confusion matrix and classification report \n",
    "#md=Model\n",
    "#x=x\n",
    "#y=y\n",
    "#rd=final RD\n",
    "Roc_Auc=[]\n",
    "def cc(md,x,y,rd):\n",
    "    x_train,x_test,y_train,y_test=train_test_split(x,y,random_state=rd,test_size=0.20)\n",
    "    md.fit(x_train,y_train)\n",
    "    pre=md.predict(x_test)\n",
    "    acc=accuracy_score(y_test,pre)\n",
    "    print(acc)\n",
    "    false_positive_rate, true_positive_rate, thresholds = roc_curve(y_test,pre)\n",
    "    roc_auc = auc(false_positive_rate, true_positive_rate)\n",
    "    Roc_Auc.append(roc_auc)\n",
    "    print ('roc_auc_score = ',roc_auc)\n",
    "    cm=confusion_matrix(y_test,pre)\n",
    "    sns.heatmap(cm,annot=True,cmap='rainbow',cbar=False)\n",
    "    print()\n",
    "    cr=classification_report(y_test,pre)\n",
    "    print()\n",
    "    print()\n",
    "    print()\n",
    "    plt.figure(figsize=[20,50],facecolor='green')\n",
    "    plt.subplot(912)\n",
    "    plt.title(md,{\"fontsize\":22})\n",
    "    plt.plot(false_positive_rate, true_positive_rate, label='AUC = %0.2f'% roc_auc)\n",
    "    plt.plot([0,1],[0,1],'r--')\n",
    "    plt.legend(loc='lower right')\n",
    "    plt.ylabel('True Positive Rate')\n",
    "    plt.xlabel('False Positive Rate')\n",
    "    plt.show()\n",
    "    print(cr,\"\\n\",\"☼☼☼☼☼☼☼☼☼☼☼☼☼☼☼☼☼☼☼☼☼☼☼☼☼☼☼☼☼☼☼☼☼\")"
   ]
  }
 ],
 "metadata": {
  "kernelspec": {
   "display_name": "Python 3",
   "language": "python",
   "name": "python3"
  },
  "language_info": {
   "codemirror_mode": {
    "name": "ipython",
    "version": 3
   },
   "file_extension": ".py",
   "mimetype": "text/x-python",
   "name": "python",
   "nbconvert_exporter": "python",
   "pygments_lexer": "ipython3",
   "version": "3.6.10"
  }
 },
 "nbformat": 4,
 "nbformat_minor": 4
}
