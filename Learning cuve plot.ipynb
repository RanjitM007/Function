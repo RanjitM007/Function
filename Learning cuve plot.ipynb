{
 "cells": [
  {
   "cell_type": "markdown",
   "metadata": {},
   "source": [
    "# Learning Curve"
   ]
  },
  {
   "cell_type": "code",
   "execution_count": null,
   "metadata": {},
   "outputs": [],
   "source": [
    "from sklearn.model_selection import learning_curve\n",
    "def lnc(model,g):#model=Regressor / classifier aalgorithms ,g= Best Random State no\n",
    "    x_train,x_test,y_train,y_test=train_test_split(df_x,y,random_state=g,test_size=0.20)\n",
    "    lc=learning_curve(model,x_train,y_train,cv=10)\n",
    "    size=lc[0]\n",
    "    train_score=[lc[1][i].mean() for i in range (0,5)]\n",
    "    test_score=[lc[2][i].mean() for i in range (0,5)]\n",
    "    fig=plt.figure(figsize=(12,8))\n",
    "    plt.plot(size,train_score,color=\"red\")\n",
    "    plt.plot(size,test_score,color=\"green\")"
   ]
  },
  {
   "cell_type": "code",
   "execution_count": null,
   "metadata": {},
   "outputs": [],
   "source": []
  },
  {
   "cell_type": "code",
   "execution_count": null,
   "metadata": {},
   "outputs": [],
   "source": []
  },
  {
   "cell_type": "code",
   "execution_count": null,
   "metadata": {},
   "outputs": [],
   "source": []
  }
 ],
 "metadata": {
  "kernelspec": {
   "display_name": "Python 3",
   "language": "python",
   "name": "python3"
  },
  "language_info": {
   "codemirror_mode": {
    "name": "ipython",
    "version": 3
   },
   "file_extension": ".py",
   "mimetype": "text/x-python",
   "name": "python",
   "nbconvert_exporter": "python",
   "pygments_lexer": "ipython3",
   "version": "3.6.10"
  }
 },
 "nbformat": 4,
 "nbformat_minor": 4
}
