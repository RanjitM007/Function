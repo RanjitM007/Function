{
 "cells": [
  {
   "cell_type": "markdown",
   "metadata": {},
   "source": [
    "# IQR Hypertuning"
   ]
  },
  {
   "cell_type": "code",
   "execution_count": null,
   "metadata": {},
   "outputs": [],
   "source": [
    "#removing the Outliers from Test dataset\n",
    "#Making function to remove the outliers with IQR hypertuning\n",
    "df5=df.copy()\n",
    "Q1=df5.quantile(0.010)\n",
    "Q3=df5.quantile(0.99)\n",
    "IQR=Q3-Q1\n",
    "df5_new=df5[~((df5<(Q1-1.5*IQR))|(df5>(Q3+1.5*IQR))).any(axis=1)]\n",
    "loss_=((len(df5)-len(df5_new))/len(df5))*100\n",
    "print(df5_new.shape,df5.shape)\n",
    "print(\"Data Loss % is →→\",loss_)"
   ]
  },
  {
   "cell_type": "code",
   "execution_count": null,
   "metadata": {},
   "outputs": [],
   "source": []
  },
  {
   "cell_type": "code",
   "execution_count": null,
   "metadata": {},
   "outputs": [],
   "source": []
  },
  {
   "cell_type": "code",
   "execution_count": null,
   "metadata": {},
   "outputs": [],
   "source": []
  }
 ],
 "metadata": {
  "kernelspec": {
   "display_name": "Python 3",
   "language": "python",
   "name": "python3"
  },
  "language_info": {
   "codemirror_mode": {
    "name": "ipython",
    "version": 3
   },
   "file_extension": ".py",
   "mimetype": "text/x-python",
   "name": "python",
   "nbconvert_exporter": "python",
   "pygments_lexer": "ipython3",
   "version": "3.6.10"
  }
 },
 "nbformat": 4,
 "nbformat_minor": 4
}
