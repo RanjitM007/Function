{
 "cells": [
  {
   "cell_type": "code",
   "execution_count": null,
   "id": "1b354714",
   "metadata": {},
   "outputs": [],
   "source": [
    "#Pca\n",
    "#After Data scalling\n",
    "from sklearn.decomposition import PCA\n",
    "cover_matrix=PCA(n_components=len(x.columns))\n",
    "cover_matrix.fit(x)"
   ]
  },
  {
   "cell_type": "code",
   "execution_count": null,
   "id": "96b42164",
   "metadata": {},
   "outputs": [],
   "source": [
    "plt.ylabel(\"Engine values\")\n",
    "plt.xlabel(\"#no of featutes\")\n",
    "plt.title(\"PCA Engine values\")\n",
    "plt.ylim(0,max(cover_matrix.explained_variance_))\n",
    "plt.axhline(y=1,color='g',linestyle='--')\n",
    "plt.plot(cover_matrix.explained_variance_,'ro-')\n",
    "plt.show()"
   ]
  }
 ],
 "metadata": {
  "kernelspec": {
   "display_name": "Python 3",
   "language": "python",
   "name": "python3"
  },
  "language_info": {
   "codemirror_mode": {
    "name": "ipython",
    "version": 3
   },
   "file_extension": ".py",
   "mimetype": "text/x-python",
   "name": "python",
   "nbconvert_exporter": "python",
   "pygments_lexer": "ipython3",
   "version": "3.8.10"
  }
 },
 "nbformat": 4,
 "nbformat_minor": 5
}
