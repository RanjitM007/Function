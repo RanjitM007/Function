{
 "cells": [
  {
   "cell_type": "code",
   "execution_count": 1,
   "metadata": {},
   "outputs": [],
   "source": [
    "#checking null value % of each columns\n",
    "def Nan_percentage(df):\n",
    "    percent_missing = df.isnull().sum() * 100 / len(df)\n",
    "    missing_value_df = pd.DataFrame({'column_name': df.columns,\n",
    "                                 'percent_missing': percent_missing})\n",
    "    sns.set_style(\"whitegrid\")\n",
    "    plt.figure(figsize=[22,10])\n",
    "    sns.countplot(x=missing_value_df['percent_missing'],data=missing_value_df)\n",
    "    plt.xticks(rotation=70)\n",
    "    plt.show()\n",
    "    plt.figure(figsize=[22,10])\n",
    "    percent_missing.plot(kind='area',color='red')\n",
    "    return(missing_value_df)"
   ]
  },
  {
   "cell_type": "code",
   "execution_count": null,
   "metadata": {},
   "outputs": [],
   "source": []
  }
 ],
 "metadata": {
  "kernelspec": {
   "display_name": "Python 3",
   "language": "python",
   "name": "python3"
  },
  "language_info": {
   "codemirror_mode": {
    "name": "ipython",
    "version": 3
   },
   "file_extension": ".py",
   "mimetype": "text/x-python",
   "name": "python",
   "nbconvert_exporter": "python",
   "pygments_lexer": "ipython3",
   "version": "3.6.10"
  }
 },
 "nbformat": 4,
 "nbformat_minor": 4
}
